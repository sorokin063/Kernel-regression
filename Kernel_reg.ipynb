{
 "cells": [
  {
   "cell_type": "code",
   "execution_count": 2,
   "id": "fbaffd33",
   "metadata": {},
   "outputs": [],
   "source": [
    "import pandas as pd\n",
    "import numpy as np\n",
    "import matplotlib.pyplot as plt\n",
    "import matplotlib\n",
    "%matplotlib inline\n",
    "plt.style.use('fivethirtyeight') # специальное отображение графиков для pyplot\n",
    "import math\n",
    "from sklearn import datasets\n",
    "import random\n",
    "from sklearn.metrics import mean_squared_error\n",
    "from sklearn.metrics import mean_absolute_error"
   ]
  },
  {
   "cell_type": "code",
   "execution_count": 3,
   "id": "5aa6113f",
   "metadata": {},
   "outputs": [],
   "source": [
    "import os\n",
    "# os.chdir('D:/Универ/Асперантура/Работа над диссером и наукой/Работа со статистикой')"
   ]
  },
  {
   "cell_type": "markdown",
   "id": "e03b3f8b",
   "metadata": {},
   "source": [
    "### Xi- наблюдения "
   ]
  },
  {
   "cell_type": "code",
   "execution_count": 4,
   "id": "3c38a547",
   "metadata": {},
   "outputs": [
    {
     "data": {
      "text/plain": [
       "array([[0.05, 0.15, 0.25, 0.35, 0.45, 0.55, 0.65, 0.75, 0.85, 0.95]])"
      ]
     },
     "execution_count": 4,
     "metadata": {},
     "output_type": "execute_result"
    }
   ],
   "source": [
    "Xi = np.array([(0.05, 0.15, 0.25, 0.35, 0.45, 0.55, 0.65, 0.75, 0.85, 0.95)])\n",
    "Xi\n",
    "# Точки в которых я наблюдаю y"
   ]
  },
  {
   "cell_type": "code",
   "execution_count": 5,
   "id": "4e263e58",
   "metadata": {},
   "outputs": [
    {
     "data": {
      "text/plain": [
       "array([[0.05],\n",
       "       [0.15],\n",
       "       [0.25],\n",
       "       [0.35],\n",
       "       [0.45],\n",
       "       [0.55],\n",
       "       [0.65],\n",
       "       [0.75],\n",
       "       [0.85],\n",
       "       [0.95]])"
      ]
     },
     "execution_count": 5,
     "metadata": {},
     "output_type": "execute_result"
    }
   ],
   "source": [
    "Xi1 = pd.DataFrame({'x':[0.05, 0.15, 0.25, 0.35, 0.45, 0.55, 0.65, 0.75, 0.85, 0.95]}).values\n",
    "Xi1"
   ]
  },
  {
   "cell_type": "markdown",
   "id": "22dad961",
   "metadata": {},
   "source": [
    "### x - переменная в функции rcap"
   ]
  },
  {
   "cell_type": "code",
   "execution_count": 6,
   "id": "1e0fc76f",
   "metadata": {},
   "outputs": [
    {
     "data": {
      "text/plain": [
       "array([[0.1],\n",
       "       [0.2],\n",
       "       [0.3],\n",
       "       [0.4],\n",
       "       [0.5],\n",
       "       [0.6],\n",
       "       [0.7],\n",
       "       [0.8],\n",
       "       [0.9],\n",
       "       [1. ]])"
      ]
     },
     "execution_count": 6,
     "metadata": {},
     "output_type": "execute_result"
    }
   ],
   "source": [
    "x = pd.DataFrame({'x':[0.1, 0.2 , 0.3 , 0.4, 0.5, 0.6, 0.7, 0.8, 0.9, 1.0]}).values\n",
    "x #переменная"
   ]
  },
  {
   "cell_type": "markdown",
   "id": "16dbff7b",
   "metadata": {},
   "source": [
    "### Генератор случайных чисел Ei."
   ]
  },
  {
   "cell_type": "code",
   "execution_count": 7,
   "id": "c337d658",
   "metadata": {},
   "outputs": [],
   "source": [
    "J=10\n",
    "mu = 0.0\n",
    "q=1\n",
    "E = [random.gauss(mu, q) for i in range(J)]\n",
    "E= (pd.DataFrame(E,columns=['E'])).values"
   ]
  },
  {
   "cell_type": "markdown",
   "id": "ba5bff3c",
   "metadata": {},
   "source": [
    "### Расчёт Yi"
   ]
  },
  {
   "cell_type": "code",
   "execution_count": 22,
   "id": "a11374a9",
   "metadata": {
    "scrolled": true
   },
   "outputs": [
    {
     "data": {
      "text/plain": [
       "array([[10.38511844],\n",
       "       [ 9.54892034],\n",
       "       [11.4618911 ],\n",
       "       [ 9.71335212],\n",
       "       [11.04760748],\n",
       "       [10.31263727],\n",
       "       [11.75200352],\n",
       "       [12.21069434],\n",
       "       [11.87689045],\n",
       "       [10.94529884]])"
      ]
     },
     "execution_count": 22,
     "metadata": {},
     "output_type": "execute_result"
    }
   ],
   "source": [
    "def randomreg(x):\n",
    "    for i in x:\n",
    "        Yi=10+1.8*(x**2) # формула расчёта Yi относительно заданных xi;\n",
    "    return Yi\n",
    "Yi = randomreg(Xi1)\n",
    "\n",
    "Yi = Yi+E\n",
    "Yi"
   ]
  },
  {
   "cell_type": "code",
   "execution_count": 23,
   "id": "6781c751",
   "metadata": {
    "scrolled": false
   },
   "outputs": [
    {
     "data": {
      "image/png": "[encoded data removed]",
      "text/plain": [
       "<Figure size 720x432 with 1 Axes>"
      ]
     },
     "metadata": {},
     "output_type": "display_data"
    },
    {
     "data": {
      "text/plain": [
       "<Figure size 432x288 with 0 Axes>"
      ]
     },
     "metadata": {},
     "output_type": "display_data"
    }
   ],
   "source": [
    "# Диаграмма рассеивания \n",
    "fig, ax = plt.subplots(figsize = (10,6))\n",
    "ax.scatter(Xi , Yi, label = 'Y~X')\n",
    "plt.xlabel('X')\n",
    "plt.ylabel('Yi')\n",
    "plt.legend(loc = 'upper left')\n",
    "plt.show()\n",
    "plt.savefig('saved_figure.png', )"
   ]
  },
  {
   "cell_type": "code",
   "execution_count": 24,
   "id": "a2311dc5",
   "metadata": {},
   "outputs": [],
   "source": [
    "# x - не случайны\n",
    "# x - случайны"
   ]
  },
  {
   "cell_type": "markdown",
   "id": "95aaecb9",
   "metadata": {},
   "source": [
    "## Строим непараметрическую регрессию"
   ]
  },
  {
   "cell_type": "markdown",
   "id": "54384a85",
   "metadata": {},
   "source": [
    "#### 2. Строим непараметрическую- ядерную регрессию "
   ]
  },
  {
   "cell_type": "code",
   "execution_count": 25,
   "id": "97ebaa53",
   "metadata": {},
   "outputs": [
    {
     "data": {
      "text/plain": [
       "array([10.22660771, 10.2792608 , 10.38121447, 10.48299584, 10.60027597,\n",
       "       10.83158927, 11.19855703, 11.54700942, 11.67771935, 11.58508093])"
      ]
     },
     "execution_count": 25,
     "metadata": {},
     "output_type": "execute_result"
    }
   ],
   "source": [
    "def kernel(z):\n",
    "    return (1.0 / np.sqrt(2 * np.pi)) * np.exp(- 0.5 * z ** 2)\n",
    "\n",
    "\n",
    "def kernelreg(x,X,Y,K,h):\n",
    "    W = K((x-X)/h)\n",
    "    rcap = sum(Y*W)/sum(W)\n",
    "    return rcap\n",
    "\n",
    "\n",
    "rcap = kernelreg(x,Xi,Yi,K=kernel,h=0.14)\n",
    "rcap"
   ]
  },
  {
   "cell_type": "markdown",
   "id": "1c34ea7e",
   "metadata": {},
   "source": [
    "#### 3 Визуализируем полученные результаты"
   ]
  },
  {
   "cell_type": "code",
   "execution_count": 26,
   "id": "551651cc",
   "metadata": {
    "scrolled": true
   },
   "outputs": [
    {
     "data": {
      "text/plain": [
       "array([10.22660771, 10.2792608 , 10.38121447, 10.48299584, 10.60027597,\n",
       "       10.83158927, 11.19855703, 11.54700942, 11.67771935, 11.58508093])"
      ]
     },
     "execution_count": 26,
     "metadata": {},
     "output_type": "execute_result"
    }
   ],
   "source": [
    "rcap"
   ]
  },
  {
   "cell_type": "code",
   "execution_count": 27,
   "id": "148d0c75",
   "metadata": {},
   "outputs": [],
   "source": [
    "rcap = np.array(rcap).reshape(-1, 1)"
   ]
  },
  {
   "cell_type": "code",
   "execution_count": 28,
   "id": "f8c99fe5",
   "metadata": {
    "scrolled": false
   },
   "outputs": [
    {
     "data": {
      "image/png": "[encoded data removed]",
      "text/plain": [
       "<Figure size 720x432 with 1 Axes>"
      ]
     },
     "metadata": {},
     "output_type": "display_data"
    }
   ],
   "source": [
    "# Диаграмма рассения:\n",
    "fig, ax = plt.subplots(figsize = (10,6))\n",
    "ax.scatter(Xi, Yi+E, label = 'Y~X')\n",
    "plt.xlabel('X')\n",
    "plt.ylabel('Y')\n",
    "\n",
    "# Накладываем регрессионную модель на данные:\n",
    "plt.plot(Xi1, Yi, '+')\n",
    "plt.plot(Xi1, rcap, label = 'kernelReg' )\n",
    "plt.legend(loc = 'upper left')\n",
    "plt.show()"
   ]
  },
  {
   "cell_type": "markdown",
   "id": "c09497db",
   "metadata": {},
   "source": [
    "#### 4. Предсказываем колличественные данные с помошью непараметрическую- ядерную регрессию:"
   ]
  },
  {
   "cell_type": "code",
   "execution_count": 29,
   "id": "46a4af7d",
   "metadata": {
    "scrolled": true
   },
   "outputs": [
    {
     "data": {
      "text/plain": [
       "array([[10.22660771],\n",
       "       [10.2792608 ],\n",
       "       [10.38121447],\n",
       "       [10.48299584],\n",
       "       [10.60027597],\n",
       "       [10.83158927],\n",
       "       [11.19855703],\n",
       "       [11.54700942],\n",
       "       [11.67771935],\n",
       "       [11.58508093]])"
      ]
     },
     "execution_count": 29,
     "metadata": {},
     "output_type": "execute_result"
    }
   ],
   "source": [
    "rcap"
   ]
  },
  {
   "cell_type": "markdown",
   "id": "f1adfc44",
   "metadata": {},
   "source": [
    "##### 5. Тест на ошибки модели:"
   ]
  },
  {
   "cell_type": "code",
   "execution_count": 30,
   "id": "4c12bc12",
   "metadata": {},
   "outputs": [
    {
     "name": "stdout",
     "output_type": "stream",
     "text": [
      "KernelReg\n",
      "АО : 0.5761539648845684\n",
      "СКО : 0.3983923872681174\n",
      "Стандарт.относит.откл. : 0.5273507443302936\n"
     ]
    }
   ],
   "source": [
    "# 1. Абсолютное отклонение:\n",
    "abe = mean_absolute_error(Yi,rcap)\n",
    "\n",
    "# 2.Среднеквадратичное отклонение(СКО):\n",
    "std = mean_squared_error(Yi,rcap)\n",
    "\n",
    "# 3.Стандартная относительная ошибка:\n",
    "#Числитель:\n",
    "are1 = np.sum(abs(Yi - rcap))\n",
    "#Знаменатель:\n",
    "are2 = np.sum(abs(Yi))\n",
    "#Формула( В '%')\n",
    "are = (1/10)*(are1/are2)*100\n",
    "\n",
    "# 4.Выводим резульаты:\n",
    "print(\"KernelReg\")\n",
    "print('АО :', abe)\n",
    "print('СКО :', std)\n",
    "print('Стандарт.относит.откл. :', float(are))"
   ]
  }
 ],
 "metadata": {
  "interpreter": {
   "hash": "e922dd073470bdcc017ae3abd31d6491d6ed7bf31c1d559806e5511bfea88b81"
  },
  "kernelspec": {
   "display_name": "Python 3 (ipykernel)",
   "language": "python",
   "name": "python3"
  },
  "language_info": {
   "codemirror_mode": {
    "name": "ipython",
    "version": 3
   },
   "file_extension": ".py",
   "mimetype": "text/x-python",
   "name": "python",
   "nbconvert_exporter": "python",
   "pygments_lexer": "ipython3",
   "version": "3.9.12"
  }
 },
 "nbformat": 4,
 "nbformat_minor": 5
}
